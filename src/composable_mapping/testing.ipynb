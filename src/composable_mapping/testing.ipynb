{
 "cells": [
  {
   "cell_type": "code",
   "execution_count": 1,
   "metadata": {},
   "outputs": [],
   "source": [
    "import torch\n",
    "import matplotlib.pyplot as plt"
   ]
  },
  {
   "cell_type": "code",
   "execution_count": 2,
   "metadata": {},
   "outputs": [],
   "source": [
    "import time\n",
    "\n",
    "from torch.cuda import Event, synchronize\n",
    "\n",
    "event_1 = Event(enable_timing=True)\n",
    "event_2 = Event(enable_timing=True)"
   ]
  },
  {
   "cell_type": "code",
   "execution_count": 21,
   "metadata": {},
   "outputs": [
    {
     "name": "stdout",
     "output_type": "stream",
     "text": [
      "computing\n",
      "5\n",
      "5\n"
     ]
    }
   ],
   "source": [
    "from functools import lru_cache\n",
    "\n",
    "\n",
    "@lru_cache(maxsize=1)\n",
    "def func():\n",
    "    print(\"computing\")\n",
    "    return 5\n",
    "\n",
    "print(func())\n",
    "print(func())"
   ]
  },
  {
   "cell_type": "code",
   "execution_count": 3,
   "metadata": {},
   "outputs": [],
   "source": [
    "from deformation_inversion_layer.interpolator import LinearInterpolator\n",
    "from torch import Tensor\n",
    "\n",
    "from composable_mapping.dense_deformation import interpolate\n",
    "\n",
    "class CustomInterpolator(LinearInterpolator):\n",
    "    def __init__(self, padding_mode: str = \"border\") -> None:\n",
    "        super().__init__(padding_mode)\n",
    "        self.count = 0\n",
    "\n",
    "    def __call__(self, volume: Tensor, coordinates: Tensor) -> Tensor:\n",
    "        self.count += 1\n",
    "        return interpolate(\n",
    "            volume=volume,\n",
    "            grid=coordinates,\n",
    "            mode=\"bilinear\",\n",
    "            padding_mode=self._padding_mode,\n",
    "        )\n",
    "    "
   ]
  },
  {
   "cell_type": "code",
   "execution_count": 4,
   "metadata": {},
   "outputs": [],
   "source": [
    "import torch.nn.functional\n",
    "from composable_mapping.affine import CPUAffineTransformation\n",
    "from composable_mapping.grid_mapping import (\n",
    "    InterpolationArgs,\n",
    "    create_deformation_from_voxel_data,\n",
    "    create_volume,\n",
    ")\n",
    "from composable_mapping.mapping_factory import SamplableMappingFactory\n",
    "from composable_mapping.masked_tensor import MaskedTensor\n",
    "from composable_mapping.voxel_coordinate_system import create_centered_normalized, create_voxel\n",
    "\n",
    "random_image = torch.randn(1, 1, 512, 512, 512, device=torch.device(\"cuda:0\"))\n",
    "random_ddf = torch.randn(1, 3, 512, 512, 512, device=torch.device(\"cuda:0\"))\n",
    "\n",
    "normalized_coordinate_system = create_centered_normalized(\n",
    "    shape=(512, 512, 512), device=torch.device(\"cuda:0\")\n",
    ")\n",
    "voxel_coordinate_system = create_voxel(\n",
    "    shape=(512, 512, 512), device=torch.device(\"cuda:0\")\n",
    ")\n",
    "\n",
    "mapping_factory = SamplableMappingFactory(\n",
    "    normalized_coordinate_system,\n",
    "    interpolation_args=InterpolationArgs(mask_outside_fov=True),\n",
    ")\n",
    "image = mapping_factory.create_volume(random_image)\n",
    "deformation = mapping_factory.create_deformation(random_ddf)\n",
    "\n",
    "# create example affine matrix which is not identity\n",
    "matrix = torch.tensor(\n",
    "    [\n",
    "        [1.1, 0, 0, 0],\n",
    "        [0, 1.1, 0, 0],\n",
    "        [0, 0, 1.1, 0],\n",
    "        [0, 0, 0, 1],\n",
    "    ]\n",
    ")\n",
    "affine = CPUAffineTransformation(transformation_matrix_on_cpu=matrix, device=torch.device(\"cuda:0\")).pin_memory_if_target_not_cpu()\n",
    "data = torch.randn(1, 3, 128, 128, 128, device=torch.device(\"cuda:0\"))\n",
    "random_tensor = torch.tensor([1.5, 1.5, 1.5], device=torch.device(\"cuda:0\"))"
   ]
  },
  {
   "cell_type": "code",
   "execution_count": 16,
   "metadata": {},
   "outputs": [
    {
     "name": "stdout",
     "output_type": "stream",
     "text": [
      "Time: 0.09380388259887695\n",
      "CUDA Time: 0.10519551849365234\n"
     ]
    },
    {
     "ename": "",
     "evalue": "",
     "output_type": "error",
     "traceback": [
      "\u001b[1;31mThe Kernel crashed while executing code in the current cell or a previous cell. \n",
      "\u001b[1;31mPlease review the code in the cell(s) to identify a possible cause of the failure. \n",
      "\u001b[1;31mClick <a href='https://aka.ms/vscodeJupyterKernelCrash'>here</a> for more info. \n",
      "\u001b[1;31mView Jupyter <a href='command:jupyter.viewOutput'>log</a> for further details."
     ]
    }
   ],
   "source": [
    "import torch.nn.functional\n",
    "from composable_mapping.grid_mapping import (\n",
    "    InterpolationArgs,\n",
    "    create_deformation_from_voxel_data,\n",
    "    create_volume,\n",
    ")\n",
    "from composable_mapping.mapping_factory import SamplableMappingFactory\n",
    "from composable_mapping.masked_tensor import MaskedTensor\n",
    "from composable_mapping.voxel_coordinate_system import create_centered_normalized, create_voxel\n",
    "\n",
    "random_image = torch.randn(1, 1, 128, 128, 128, device=torch.device(\"cuda:0\"))\n",
    "random_ddf = torch.randn(1, 3, 128, 128, 128, device=torch.device(\"cuda:0\"))\n",
    "\n",
    "normalized_coordinate_system = create_centered_normalized(\n",
    "    shape=(128, 128, 128), device=torch.device(\"cuda:0\")\n",
    ")\n",
    "voxel_coordinate_system = create_voxel(\n",
    "    shape=(128, 128, 128), device=torch.device(\"cuda:0\")\n",
    ")\n",
    "\n",
    "mapping_factory = SamplableMappingFactory(\n",
    "    normalized_coordinate_system,\n",
    "    interpolation_args=InterpolationArgs(mask_outside_fov=True),\n",
    ")\n",
    "image = mapping_factory.create_volume(random_image)\n",
    "deformation = mapping_factory.create_deformation(random_ddf)\n",
    "#deformation = deformation.resample()\n",
    "\n",
    "normalized_grid = deformation.sample().generate_values()\n",
    "voxel_grid = deformation.sample_as_displacement_field().generate_values() + voxel_coordinate_system.grid().generate_values()\n",
    "\n",
    "synchronize()\n",
    "start = time.time()\n",
    "event_1.record()\n",
    "for _ in range(40):\n",
    "    # volume.compose(deformation)(coordinate_system.grid())\n",
    "    # composition(voxel_coordinate_system.grid())\n",
    "    # interpolator(random_image, grid)\n",
    "    # volume(MaskedTensor(random_ddf))\n",
    "    # jou = torch.tensor(5.0).pin_memory().to(torch.device(\"cuda:0\"), non_blocking=True)\n",
    "    # jou = torch.ones(1, device=torch.device(\"cuda:0\")) * 5.0\n",
    "    deformation.estimate_spatial_derivatives(0)\n",
    "    \"\"\"torch.nn.functional.grid_sample(\n",
    "        random_image.permute((0, 1, 4, 3, 2)),\n",
    "        normalized_grid.moveaxis(1, -1),\n",
    "        align_corners=False,\n",
    "        mode=\"bilinear\",\n",
    "        padding_mode=\"border\",\n",
    "    )\"\"\"\n",
    "event_2.record()\n",
    "end = time.time()\n",
    "print(f\"Time: {end - start}\")\n",
    "\n",
    "synchronize()\n",
    "print(f\"CUDA Time: {event_1.elapsed_time(event_2) / 1000}\")"
   ]
  }
 ],
 "metadata": {
  "kernelspec": {
   "display_name": "composable-mapping",
   "language": "python",
   "name": "python3"
  },
  "language_info": {
   "codemirror_mode": {
    "name": "ipython",
    "version": 3
   },
   "file_extension": ".py",
   "mimetype": "text/x-python",
   "name": "python",
   "nbconvert_exporter": "python",
   "pygments_lexer": "ipython3",
   "version": "3.8.19"
  }
 },
 "nbformat": 4,
 "nbformat_minor": 2
}
