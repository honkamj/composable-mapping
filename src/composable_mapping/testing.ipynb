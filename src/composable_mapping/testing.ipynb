{
 "cells": [
  {
   "cell_type": "code",
   "execution_count": 1,
   "metadata": {},
   "outputs": [],
   "source": [
    "import composable_mapping as cm\n",
    "import torch"
   ]
  },
  {
   "cell_type": "code",
   "execution_count": 21,
   "metadata": {},
   "outputs": [],
   "source": [
    "sampler = cm.LinearInterpolator(\n",
    "    mask_extrapolated_regions_for_empty_volume_mask=False, extrapolation_mode=\"border\"\n",
    ")\n",
    "volume = torch.tensor(\n",
    "    [\n",
    "        [1.0, -1.0, 0.0],\n",
    "        [0.0, 1.0, 0.0],\n",
    "        [0.0, 2.0, 0.0],\n",
    "    ]\n",
    ")[None, None]\n",
    "coordinate_system = cm.CoordinateSystem.voxel((3, 3))\n",
    "mapping = cm.samplable_volume(\n",
    "    volume,\n",
    "    coordinate_system=coordinate_system,\n",
    "    sampler=sampler,\n",
    ")\n",
    "mapping_to_sample = mapping.resample(\n",
    "    sampler=sampler.derivative(spatial_dim=0, limit_direction=cm.LimitDirection.right()),\n",
    ")"
   ]
  },
  {
   "cell_type": "code",
   "execution_count": 22,
   "metadata": {},
   "outputs": [
    {
     "data": {
      "text/plain": [
       "tensor([[[[1.]]]])"
      ]
     },
     "execution_count": 22,
     "metadata": {},
     "output_type": "execute_result"
    }
   ],
   "source": [
    "mapping_to_sample.sample_to((cm.CoordinateSystem.voxel((1, 1))) + [1.0, 1.0]).generate_values()"
   ]
  }
 ],
 "metadata": {
  "language_info": {
   "name": "python"
  }
 },
 "nbformat": 4,
 "nbformat_minor": 2
}
