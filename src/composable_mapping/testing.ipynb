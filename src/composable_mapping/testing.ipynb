{
 "cells": [
  {
   "cell_type": "code",
   "execution_count": 1,
   "metadata": {},
   "outputs": [],
   "source": [
    "from typing import Union\n",
    "\n",
    "\n",
    "class Test:\n",
    "    \"\"\"Instances of this class can be used as target spatial shapes for reformatting\n",
    "    coordinate systems.\n",
    "\n",
    "    Allows to define how the spatial shape of the grid should be reformatted based on\n",
    "    the original spatial shape and the downsampling factor.\n",
    "    \"\"\"\n",
    "\n",
    "    def __init__(self, value: int) -> None:\n",
    "        self.value = value\n",
    "\n",
    "    def __add__(self, other: Union[\"Test\", int]) -> \"int\":\n",
    "        return self.value + other.value if isinstance(other, Test) else self.value + other\n"
   ]
  },
  {
   "cell_type": "code",
   "execution_count": 6,
   "metadata": {},
   "outputs": [
    {
     "ename": "SyntaxError",
     "evalue": "invalid syntax (2524173286.py, line 1)",
     "output_type": "error",
     "traceback": [
      "\u001b[0;36m  Cell \u001b[0;32mIn[6], line 1\u001b[0;36m\u001b[0m\n\u001b[0;31m    5.__add__(4)\u001b[0m\n\u001b[0m      ^\u001b[0m\n\u001b[0;31mSyntaxError\u001b[0m\u001b[0;31m:\u001b[0m invalid syntax\n"
     ]
    }
   ],
   "source": [
    "5.__add__(4)"
   ]
  }
 ],
 "metadata": {
  "kernelspec": {
   "display_name": "composable-mapping",
   "language": "python",
   "name": "python3"
  },
  "language_info": {
   "codemirror_mode": {
    "name": "ipython",
    "version": 3
   },
   "file_extension": ".py",
   "mimetype": "text/x-python",
   "name": "python",
   "nbconvert_exporter": "python",
   "pygments_lexer": "ipython3",
   "version": "3.8.20"
  }
 },
 "nbformat": 4,
 "nbformat_minor": 2
}
