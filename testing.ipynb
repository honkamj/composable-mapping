{
 "cells": [
  {
   "cell_type": "code",
   "execution_count": 1,
   "metadata": {},
   "outputs": [],
   "source": [
    "import composable_mapping as cm"
   ]
  },
  {
   "cell_type": "code",
   "execution_count": 2,
   "metadata": {},
   "outputs": [],
   "source": [
    "from composable_mapping.sampler.interface import LimitDirection\n",
    "\n",
    "\n",
    "sampler = cm.LinearInterpolator()"
   ]
  },
  {
   "cell_type": "code",
   "execution_count": 3,
   "metadata": {},
   "outputs": [],
   "source": [
    "import matplotlib.pyplot as plt\n",
    "import torch\n",
    "x = torch.arange(20, dtype=torch.float32).view(5, 4)[None, None]\n",
    "cs = cm.CoordinateSystem.voxel((5, 4))\n",
    "vol = cm.samplable_volume(x, coordinate_system=cs)"
   ]
  },
  {
   "cell_type": "code",
   "execution_count": 4,
   "metadata": {},
   "outputs": [
    {
     "name": "stdout",
     "output_type": "stream",
     "text": [
      "tensor([[ 0.,  1.,  2.,  3.],\n",
      "        [ 4.,  5.,  6.,  7.],\n",
      "        [ 8.,  9., 10., 11.],\n",
      "        [12., 13., 14., 15.],\n",
      "        [16., 17., 18., 19.]])\n"
     ]
    }
   ],
   "source": [
    "print(vol.sample().generate_values()[0, 0])"
   ]
  },
  {
   "cell_type": "code",
   "execution_count": 7,
   "metadata": {},
   "outputs": [
    {
     "name": "stdout",
     "output_type": "stream",
     "text": [
      "tensor([[  2.,   1.,   0.,  -1.],\n",
      "        [  0.,  -1.,  -2.,  -3.],\n",
      "        [ -4.,  -5.,  -6.,  -7.],\n",
      "        [ -8.,  -9., -10., -11.],\n",
      "        [-14., -15., -16., -17.]])\n"
     ]
    }
   ],
   "source": [
    "from composable_mapping.sampler.interpolator import LinearInterpolator\n",
    "\n",
    "\n",
    "print(\n",
    "    vol.modify_sampler(\n",
    "        sampler=LinearInterpolator().derivative(\n",
    "            spatial_dim=0, limit_direction=LimitDirection.average(tolerance=1e-5)\n",
    "        )\n",
    "    )\n",
    "    .sample_to(cs + 1e-5)\n",
    "    .generate_values()[0, 0]\n",
    ")"
   ]
  }
 ],
 "metadata": {
  "kernelspec": {
   "display_name": "Python 3",
   "language": "python",
   "name": "python3"
  },
  "language_info": {
   "codemirror_mode": {
    "name": "ipython",
    "version": 3
   },
   "file_extension": ".py",
   "mimetype": "text/x-python",
   "name": "python",
   "nbconvert_exporter": "python",
   "pygments_lexer": "ipython3",
   "version": "3.8.20"
  }
 },
 "nbformat": 4,
 "nbformat_minor": 2
}
